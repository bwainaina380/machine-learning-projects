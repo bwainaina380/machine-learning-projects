{
 "metadata": {
  "language_info": {
   "codemirror_mode": {
    "name": "ipython",
    "version": 3
   },
   "file_extension": ".py",
   "mimetype": "text/x-python",
   "name": "python",
   "nbconvert_exporter": "python",
   "pygments_lexer": "ipython3",
   "version": "3.8.5"
  },
  "orig_nbformat": 2,
  "kernelspec": {
   "name": "python3",
   "display_name": "Python 3.8.5 64-bit ('base': conda)",
   "metadata": {
    "interpreter": {
     "hash": "4a86b9e24029418a8fdcada9a8a749d7482f1abc7680e01f11545cadc3a03da3"
    }
   }
  }
 },
 "nbformat": 4,
 "nbformat_minor": 2,
 "cells": [
  {
   "cell_type": "code",
   "execution_count": 2,
   "metadata": {},
   "outputs": [],
   "source": [
    "import numpy as np\n",
    "import pandas as pd\n",
    "from sklearn import neighbors, metrics\n",
    "from sklearn.model_selection import train_test_split\n",
    "from sklearn.preprocessing import LabelEncoder"
   ]
  },
  {
   "cell_type": "code",
   "execution_count": 4,
   "metadata": {},
   "outputs": [
    {
     "output_type": "stream",
     "name": "stdout",
     "text": [
      "  buying  maint doors persons lug_boot safety  class\n0  vhigh  vhigh     2       2    small    low  unacc\n1  vhigh  vhigh     2       2    small    med  unacc\n2  vhigh  vhigh     2       2    small   high  unacc\n3  vhigh  vhigh     2       2      med    low  unacc\n4  vhigh  vhigh     2       2      med    med  unacc\n"
     ]
    }
   ],
   "source": [
    "data = pd.read_csv(\"car.data\")\n",
    "print(data.head())"
   ]
  },
  {
   "cell_type": "code",
   "execution_count": 9,
   "metadata": {},
   "outputs": [
    {
     "output_type": "stream",
     "name": "stdout",
     "text": [
      "[['vhigh' 'vhigh' 'low']\n ['vhigh' 'vhigh' 'med']\n ['vhigh' 'vhigh' 'high']\n ...\n ['low' 'low' 'low']\n ['low' 'low' 'med']\n ['low' 'low' 'high']]       class\n0     unacc\n1     unacc\n2     unacc\n3     unacc\n4     unacc\n...     ...\n1723   good\n1724  vgood\n1725  unacc\n1726   good\n1727  vgood\n\n[1728 rows x 1 columns]\n"
     ]
    }
   ],
   "source": [
    "X = data[[\n",
    "    'buying',\n",
    "    'maint',\n",
    "    'safety'\n",
    "]].values\n",
    "\n",
    "y = data[['class']]\n",
    "\n",
    "print(X, y)"
   ]
  },
  {
   "cell_type": "code",
   "execution_count": 10,
   "metadata": {},
   "outputs": [
    {
     "output_type": "stream",
     "name": "stdout",
     "text": [
      "[[3 3 1]\n [3 3 2]\n [3 3 0]\n ...\n [1 1 1]\n [1 1 2]\n [1 1 0]]\n"
     ]
    }
   ],
   "source": [
    "# We have strings like 'low', 'unacc' and we need to convert these into numbers to feed into the machine learning algorithm\n",
    "# The following is one kind of encoding, which uses a label encoder\n",
    "Le = LabelEncoder()\n",
    "for i in range(len(X[0])):\n",
    "    X[:, i] = Le.fit_transform(X[:, i])\n",
    "\n",
    "print(X)"
   ]
  },
  {
   "cell_type": "code",
   "execution_count": 11,
   "metadata": {},
   "outputs": [
    {
     "output_type": "stream",
     "name": "stdout",
     "text": [
      "[[0]\n",
      " [0]\n",
      " [0]\n",
      " ...\n",
      " [0]\n",
      " [2]\n",
      " [3]]\n",
      "<ipython-input-11-3eaa1cf83d23>:10: SettingWithCopyWarning: \n",
      "A value is trying to be set on a copy of a slice from a DataFrame.\n",
      "Try using .loc[row_indexer,col_indexer] = value instead\n",
      "\n",
      "See the caveats in the documentation: https://pandas.pydata.org/pandas-docs/stable/user_guide/indexing.html#returning-a-view-versus-a-copy\n",
      "  y['class'] = y['class'].map(label_mapping)\n"
     ]
    }
   ],
   "source": [
    "# For y values, we will use a different type of conversion from the label encoder\n",
    "# We use mapping\n",
    "label_mapping = {\n",
    "    'unacc' : 0,\n",
    "    'acc' : 1,\n",
    "    'good' : 2,\n",
    "    'vgood' : 3\n",
    "}\n",
    "\n",
    "y['class'] = y['class'].map(label_mapping)\n",
    "\n",
    "# Convert to a numpy array\n",
    "y = np.array(y)\n",
    "print(y)"
   ]
  },
  {
   "cell_type": "code",
   "execution_count": 12,
   "metadata": {},
   "outputs": [],
   "source": [
    "# Now, data is in the correct form. We can start creating the model\n",
    "knn = neighbors.KNeighborsClassifier(n_neighbors=25, weights='uniform')"
   ]
  },
  {
   "cell_type": "code",
   "execution_count": 14,
   "metadata": {},
   "outputs": [
    {
     "output_type": "stream",
     "name": "stdout",
     "text": [
      "(1382, 3)\n(346, 3)\n(1382, 1)\n(346, 1)\n"
     ]
    }
   ],
   "source": [
    "# Create training and testing datasets\n",
    "X_train, X_test, y_train, y_test = train_test_split(X, y, test_size=0.2)\n",
    "\n",
    "print(X_train.shape)\n",
    "print(X_test.shape)\n",
    "print(y_train.shape)\n",
    "print(y_test.shape)"
   ]
  },
  {
   "cell_type": "code",
   "execution_count": 15,
   "metadata": {},
   "outputs": [
    {
     "output_type": "stream",
     "name": "stderr",
     "text": [
      "<ipython-input-15-28c3d708440b>:2: DataConversionWarning: A column-vector y was passed when a 1d array was expected. Please change the shape of y to (n_samples, ), for example using ravel().\n  knn.fit(X_train, y_train)\n"
     ]
    },
    {
     "output_type": "execute_result",
     "data": {
      "text/plain": [
       "KNeighborsClassifier(n_neighbors=25)"
      ]
     },
     "metadata": {},
     "execution_count": 15
    }
   ],
   "source": [
    "# Train the model\n",
    "knn.fit(X_train, y_train)"
   ]
  },
  {
   "cell_type": "code",
   "execution_count": 17,
   "metadata": {},
   "outputs": [
    {
     "output_type": "stream",
     "name": "stdout",
     "text": [
      "[0 0 0 0 1 1 0 1 0 0 0 0 0 0 0 0 0 0 1 0 0 0 0 0 1 1 3 1 0 0 0 0 1 0 0 0 0\n 0 0 0 0 0 2 0 1 0 0 1 0 1 0 1 0 0 0 0 0 0 0 0 0 0 0 0 0 0 1 0 0 0 0 1 1 0\n 0 0 0 3 0 0 0 2 0 0 0 0 1 1 2 1 0 0 0 0 0 0 0 1 0 0 0 0 0 0 0 1 1 1 0 0 0\n 0 1 1 0 1 0 0 0 0 0 0 3 1 1 0 0 0 0 0 1 0 0 0 1 0 0 1 0 0 0 0 2 0 0 0 0 1\n 0 0 0 0 0 0 0 0 0 0 1 0 1 0 0 0 0 0 1 0 2 1 0 0 1 0 0 1 0 0 0 0 1 0 0 0 1\n 0 0 0 0 2 1 0 3 0 0 0 0 0 0 1 0 0 0 0 0 0 0 0 1 0 0 1 0 0 1 0 2 0 0 0 0 0\n 0 0 0 0 1 1 1 1 0 3 0 0 2 0 0 1 0 1 0 0 0 0 1 0 0 0 1 0 0 1 0 0 3 0 0 0 1\n 0 0 0 0 0 0 0 0 0 3 1 0 1 0 0 0 1 0 3 3 0 1 0 0 1 0 0 0 3 0 0 0 1 0 0 0 1\n 0 0 0 1 1 1 0 1 0 0 0 0 0 0 0 0 0 1 0 1 0 1 0 1 0 0 0 1 0 0 0 0 0 0 0 1 0\n 0 0 1 0 1 0 1 0 0 0 0 0 0]\n"
     ]
    }
   ],
   "source": [
    "# Make a predictions\n",
    "prediction = knn.predict(X_test)\n",
    "print(prediction)"
   ]
  },
  {
   "cell_type": "code",
   "execution_count": 18,
   "metadata": {},
   "outputs": [
    {
     "output_type": "stream",
     "name": "stdout",
     "text": [
      "0.7456647398843931\n"
     ]
    }
   ],
   "source": [
    "# Check the accuracy of the predictions\n",
    "accuracy = metrics.accuracy_score(y_test, prediction)\n",
    "print(accuracy)"
   ]
  },
  {
   "cell_type": "code",
   "execution_count": 20,
   "metadata": {},
   "outputs": [
    {
     "output_type": "stream",
     "name": "stdout",
     "text": [
      "Actual value:  [0]\nPredicted value:  0\n"
     ]
    }
   ],
   "source": [
    "# Testing the prediction\n",
    "print(\"Actual value: \", y[20])\n",
    "print(\"Predicted value: \", knn.predict(X)[20])"
   ]
  },
  {
   "cell_type": "code",
   "execution_count": null,
   "metadata": {},
   "outputs": [],
   "source": []
  }
 ]
}